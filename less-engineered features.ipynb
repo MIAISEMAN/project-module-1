{
 "cells": [
  {
   "cell_type": "markdown",
   "metadata": {},
   "source": [
    "## Final Project Submission\n",
    "\n",
    "* Student name: Mia Iseman & Sherry Yang\n",
    "* Student pace: full time\n",
    "* Scheduled project review date/time: \n",
    "* Instructor name: \n",
    "* Blog post URL:"
   ]
  },
  {
   "cell_type": "markdown",
   "metadata": {},
   "source": [
    "## Our goal: Predict the sale price of houses in King County, WA for HomeAway, an Airbnb and VRBO competitor who was recently acquired by Expedia located in Bellvue, WA. "
   ]
  },
  {
   "cell_type": "markdown",
   "metadata": {},
   "source": [
    "### Why does HomeAway want to predict the house prices in King County? \n",
    "\n",
    "* HomeAway wants to know how much employees will be paying for their homes if they create a King County Office as well as possibilities of taxes increasing.\n",
    "* HomeAway is interested in purchasing homes in the area for special event rentals and executive suites. \n",
    "* Tangential beneficial knowledge: If there is a drop in consumer interest in purchasing homes then HomeAway will lose traffic to the site (beyond the scope of our project)\n",
    "* HomeAway is interested in any knowledge we can gain from any features within the data set.\n"
   ]
  },
  {
   "cell_type": "markdown",
   "metadata": {},
   "source": [
    "### We will predict the sale price of houses in KC using the following steps: \n",
    "* Obtain and understand our data \n",
    "* Scrub our data \n",
    "* Explore our data \n",
    "* Model our data - using multivariate linear regression \n",
    "* Test our model \n",
    "* Report findings "
   ]
  },
  {
   "cell_type": "markdown",
   "metadata": {},
   "source": [
    "## Obtain and Understand Our Data "
   ]
  },
  {
   "cell_type": "code",
   "execution_count": 79,
   "metadata": {},
   "outputs": [],
   "source": [
    "#import pandas to view and clean data using dataframes\n",
    "import pandas as pd \n",
    "#import numpy to perform calculations on the data easily  \n",
    "import numpy as np \n",
    "import matplotlib as plt\n",
    "import math as math\n",
    "\n",
    "#read the file as a dataframe\n",
    "kc_df = pd.read_csv('kc_house_data.csv')"
   ]
  },
  {
   "cell_type": "code",
   "execution_count": 80,
   "metadata": {
    "scrolled": true
   },
   "outputs": [
    {
     "data": {
      "text/html": [
       "<div>\n",
       "<style scoped>\n",
       "    .dataframe tbody tr th:only-of-type {\n",
       "        vertical-align: middle;\n",
       "    }\n",
       "\n",
       "    .dataframe tbody tr th {\n",
       "        vertical-align: top;\n",
       "    }\n",
       "\n",
       "    .dataframe thead th {\n",
       "        text-align: right;\n",
       "    }\n",
       "</style>\n",
       "<table border=\"1\" class=\"dataframe\">\n",
       "  <thead>\n",
       "    <tr style=\"text-align: right;\">\n",
       "      <th></th>\n",
       "      <th>id</th>\n",
       "      <th>date</th>\n",
       "      <th>price</th>\n",
       "      <th>bedrooms</th>\n",
       "      <th>bathrooms</th>\n",
       "      <th>sqft_living</th>\n",
       "      <th>sqft_lot</th>\n",
       "      <th>floors</th>\n",
       "      <th>waterfront</th>\n",
       "      <th>view</th>\n",
       "      <th>...</th>\n",
       "      <th>grade</th>\n",
       "      <th>sqft_above</th>\n",
       "      <th>sqft_basement</th>\n",
       "      <th>yr_built</th>\n",
       "      <th>yr_renovated</th>\n",
       "      <th>zipcode</th>\n",
       "      <th>lat</th>\n",
       "      <th>long</th>\n",
       "      <th>sqft_living15</th>\n",
       "      <th>sqft_lot15</th>\n",
       "    </tr>\n",
       "  </thead>\n",
       "  <tbody>\n",
       "    <tr>\n",
       "      <th>0</th>\n",
       "      <td>7129300520</td>\n",
       "      <td>10/13/2014</td>\n",
       "      <td>221900.0</td>\n",
       "      <td>3</td>\n",
       "      <td>1.00</td>\n",
       "      <td>1180</td>\n",
       "      <td>5650</td>\n",
       "      <td>1.0</td>\n",
       "      <td>NaN</td>\n",
       "      <td>0.0</td>\n",
       "      <td>...</td>\n",
       "      <td>7</td>\n",
       "      <td>1180</td>\n",
       "      <td>0.0</td>\n",
       "      <td>1955</td>\n",
       "      <td>0.0</td>\n",
       "      <td>98178</td>\n",
       "      <td>47.5112</td>\n",
       "      <td>-122.257</td>\n",
       "      <td>1340</td>\n",
       "      <td>5650</td>\n",
       "    </tr>\n",
       "    <tr>\n",
       "      <th>1</th>\n",
       "      <td>6414100192</td>\n",
       "      <td>12/9/2014</td>\n",
       "      <td>538000.0</td>\n",
       "      <td>3</td>\n",
       "      <td>2.25</td>\n",
       "      <td>2570</td>\n",
       "      <td>7242</td>\n",
       "      <td>2.0</td>\n",
       "      <td>0.0</td>\n",
       "      <td>0.0</td>\n",
       "      <td>...</td>\n",
       "      <td>7</td>\n",
       "      <td>2170</td>\n",
       "      <td>400.0</td>\n",
       "      <td>1951</td>\n",
       "      <td>1991.0</td>\n",
       "      <td>98125</td>\n",
       "      <td>47.7210</td>\n",
       "      <td>-122.319</td>\n",
       "      <td>1690</td>\n",
       "      <td>7639</td>\n",
       "    </tr>\n",
       "    <tr>\n",
       "      <th>2</th>\n",
       "      <td>5631500400</td>\n",
       "      <td>2/25/2015</td>\n",
       "      <td>180000.0</td>\n",
       "      <td>2</td>\n",
       "      <td>1.00</td>\n",
       "      <td>770</td>\n",
       "      <td>10000</td>\n",
       "      <td>1.0</td>\n",
       "      <td>0.0</td>\n",
       "      <td>0.0</td>\n",
       "      <td>...</td>\n",
       "      <td>6</td>\n",
       "      <td>770</td>\n",
       "      <td>0.0</td>\n",
       "      <td>1933</td>\n",
       "      <td>NaN</td>\n",
       "      <td>98028</td>\n",
       "      <td>47.7379</td>\n",
       "      <td>-122.233</td>\n",
       "      <td>2720</td>\n",
       "      <td>8062</td>\n",
       "    </tr>\n",
       "    <tr>\n",
       "      <th>3</th>\n",
       "      <td>2487200875</td>\n",
       "      <td>12/9/2014</td>\n",
       "      <td>604000.0</td>\n",
       "      <td>4</td>\n",
       "      <td>3.00</td>\n",
       "      <td>1960</td>\n",
       "      <td>5000</td>\n",
       "      <td>1.0</td>\n",
       "      <td>0.0</td>\n",
       "      <td>0.0</td>\n",
       "      <td>...</td>\n",
       "      <td>7</td>\n",
       "      <td>1050</td>\n",
       "      <td>910.0</td>\n",
       "      <td>1965</td>\n",
       "      <td>0.0</td>\n",
       "      <td>98136</td>\n",
       "      <td>47.5208</td>\n",
       "      <td>-122.393</td>\n",
       "      <td>1360</td>\n",
       "      <td>5000</td>\n",
       "    </tr>\n",
       "    <tr>\n",
       "      <th>4</th>\n",
       "      <td>1954400510</td>\n",
       "      <td>2/18/2015</td>\n",
       "      <td>510000.0</td>\n",
       "      <td>3</td>\n",
       "      <td>2.00</td>\n",
       "      <td>1680</td>\n",
       "      <td>8080</td>\n",
       "      <td>1.0</td>\n",
       "      <td>0.0</td>\n",
       "      <td>0.0</td>\n",
       "      <td>...</td>\n",
       "      <td>8</td>\n",
       "      <td>1680</td>\n",
       "      <td>0.0</td>\n",
       "      <td>1987</td>\n",
       "      <td>0.0</td>\n",
       "      <td>98074</td>\n",
       "      <td>47.6168</td>\n",
       "      <td>-122.045</td>\n",
       "      <td>1800</td>\n",
       "      <td>7503</td>\n",
       "    </tr>\n",
       "  </tbody>\n",
       "</table>\n",
       "<p>5 rows × 21 columns</p>\n",
       "</div>"
      ],
      "text/plain": [
       "           id        date     price  bedrooms  bathrooms  sqft_living  \\\n",
       "0  7129300520  10/13/2014  221900.0         3       1.00         1180   \n",
       "1  6414100192   12/9/2014  538000.0         3       2.25         2570   \n",
       "2  5631500400   2/25/2015  180000.0         2       1.00          770   \n",
       "3  2487200875   12/9/2014  604000.0         4       3.00         1960   \n",
       "4  1954400510   2/18/2015  510000.0         3       2.00         1680   \n",
       "\n",
       "   sqft_lot  floors  waterfront  view     ...      grade  sqft_above  \\\n",
       "0      5650     1.0         NaN   0.0     ...          7        1180   \n",
       "1      7242     2.0         0.0   0.0     ...          7        2170   \n",
       "2     10000     1.0         0.0   0.0     ...          6         770   \n",
       "3      5000     1.0         0.0   0.0     ...          7        1050   \n",
       "4      8080     1.0         0.0   0.0     ...          8        1680   \n",
       "\n",
       "   sqft_basement yr_built  yr_renovated  zipcode      lat     long  \\\n",
       "0            0.0     1955           0.0    98178  47.5112 -122.257   \n",
       "1          400.0     1951        1991.0    98125  47.7210 -122.319   \n",
       "2            0.0     1933           NaN    98028  47.7379 -122.233   \n",
       "3          910.0     1965           0.0    98136  47.5208 -122.393   \n",
       "4            0.0     1987           0.0    98074  47.6168 -122.045   \n",
       "\n",
       "   sqft_living15  sqft_lot15  \n",
       "0           1340        5650  \n",
       "1           1690        7639  \n",
       "2           2720        8062  \n",
       "3           1360        5000  \n",
       "4           1800        7503  \n",
       "\n",
       "[5 rows x 21 columns]"
      ]
     },
     "execution_count": 80,
     "metadata": {},
     "output_type": "execute_result"
    }
   ],
   "source": [
    "kc_df.head()"
   ]
  },
  {
   "cell_type": "markdown",
   "metadata": {},
   "source": [
    "#### We will be using this key to identify what data is in our data set. These are the descriptions of the columns from our data set.  \n",
    "\n",
    "* **id** - unique identified for a house\n",
    "* **dateDate** - house was sold\n",
    "* **pricePrice** -  TARGET\n",
    "* **bedroomsNumber** -  of Bedrooms/House\n",
    "* **bathroomsNumber** -  of bathrooms/bedrooms\n",
    "* **sqft_livingsquare** -  footage of the home\n",
    "* **sqft_lotsquare** -  footage of the lot\n",
    "* **floorsTotal** -  floors (levels) in house\n",
    "* **waterfront** - House which has a view to a waterfront\n",
    "* **view** - Has been viewed\n",
    "* **condition** - How good the condition is ( Overall )\n",
    "* **grade** - overall grade given to the housing unit, based on King County grading system\n",
    "* **sqft_above** - square footage of house apart from basement\n",
    "* **sqft_basement** - square footage of the basement\n",
    "* **yr_built** - Built Year\n",
    "* **yr_renovated** - Year when house was renovated\n",
    "* **zipcode** - zip\n",
    "* **lat** - Latitude coordinate\n",
    "* **long** - Longitude coordinate\n",
    "* **sqft_living15** - The square footage of interior housing living space for the nearest 15 neighbors\n",
    "* **sqft_lot15** - The square footage of the land lots of the nearest 15 neighbors"
   ]
  },
  {
   "cell_type": "code",
   "execution_count": 81,
   "metadata": {
    "scrolled": true
   },
   "outputs": [
    {
     "data": {
      "text/plain": [
       "id                  0\n",
       "date                0\n",
       "price               0\n",
       "bedrooms            0\n",
       "bathrooms           0\n",
       "sqft_living         0\n",
       "sqft_lot            0\n",
       "floors              0\n",
       "waterfront       2376\n",
       "view               63\n",
       "condition           0\n",
       "grade               0\n",
       "sqft_above          0\n",
       "sqft_basement       0\n",
       "yr_built            0\n",
       "yr_renovated     3842\n",
       "zipcode             0\n",
       "lat                 0\n",
       "long                0\n",
       "sqft_living15       0\n",
       "sqft_lot15          0\n",
       "dtype: int64"
      ]
     },
     "execution_count": 81,
     "metadata": {},
     "output_type": "execute_result"
    }
   ],
   "source": [
    "kc_df.isna().sum()"
   ]
  },
  {
   "cell_type": "markdown",
   "metadata": {},
   "source": [
    "### We had a few assumptions and questions to ask HomeAway about their data. Findings are below:\n",
    "* id is a unique identifier per house \n",
    "* bathroomsNumber is the number of bathrooms per house \n",
    "* waterfront has three values: NaN, 0, and 1. NaN values means it is unknown whether that property has a waterfornt view.\n",
    "* views has values NaN and whole number values 0-4. We suspected this was the number of times that a property has been seen before it was sold, but it is actually the number of interesting views from the property.   \n",
    "* condition has whole number values 1-5\n",
    "* grade has values 7,  6,  8, 11,  9,  5, 10, 12,  4,  3, and 13. Based on the King County glossary, this is the \"classification by construction quality which refers to the types of materials used and the quality of workmanship.\"\n",
    "* yr_renovated has some NaN values, which implies that property was not never renovated. "
   ]
  },
  {
   "cell_type": "markdown",
   "metadata": {},
   "source": [
    "## Scrubbing our data - edit this phrasing\n",
    "\n",
    "From understanding the data, we have two main goals before moving on to modeling the data. \n",
    "\n",
    "1. We want to change our objects into floats or integers so we can work with that data. \n",
    "\n",
    "2. We want to eliminate the redundancy between zeros and null values for yr_renovated and view. "
   ]
  },
  {
   "cell_type": "code",
   "execution_count": 82,
   "metadata": {},
   "outputs": [],
   "source": [
    "#replace the basement \"?\" with null\n",
    "kc_df['sqft_basement'] = pd.to_numeric(kc_df['sqft_basement'], errors='coerce')"
   ]
  },
  {
   "cell_type": "code",
   "execution_count": 83,
   "metadata": {},
   "outputs": [],
   "source": [
    "#Change the date column objects to be datetime entries.\n",
    "kc_df.date = pd.to_datetime(kc_df.date, format='%m/%d/%Y')"
   ]
  },
  {
   "cell_type": "markdown",
   "metadata": {},
   "source": [
    "### To everything there is a season! - edit this phrasing\n",
    "We change ... "
   ]
  },
  {
   "cell_type": "code",
   "execution_count": 84,
   "metadata": {},
   "outputs": [],
   "source": [
    "import datetime\n",
    "def find_date(dates):\n",
    "    output = []\n",
    "    for date in dates: \n",
    "        day_of_year = (date - datetime.datetime(date.year, 1, 1)).days + 1\n",
    "        output.append(day_of_year)\n",
    "    return output"
   ]
  },
  {
   "cell_type": "code",
   "execution_count": 85,
   "metadata": {},
   "outputs": [],
   "source": [
    "date_series = pd.Series(find_date(kc_df['date']))"
   ]
  },
  {
   "cell_type": "code",
   "execution_count": 86,
   "metadata": {},
   "outputs": [],
   "source": [
    "kc_df = kc_df.drop([\"date\"], axis=1)"
   ]
  },
  {
   "cell_type": "code",
   "execution_count": 87,
   "metadata": {},
   "outputs": [],
   "source": [
    "season_days = dict(\n",
    "    winter=set(range(1,80)).union(set(range(352,367))),\n",
    "    spring=set(range(80,171)),\n",
    "    summer=set(range(171,264)),\n",
    "    autumn=set(range(264,352)),\n",
    ")"
   ]
  },
  {
   "cell_type": "code",
   "execution_count": 88,
   "metadata": {},
   "outputs": [],
   "source": [
    "def find_season(days_from_jan1):\n",
    "    \"\"\"Return the season as a string\"\"\"\n",
    "    for season, days in season_days.items():\n",
    "        if days_from_jan1 in days:\n",
    "            return season"
   ]
  },
  {
   "cell_type": "code",
   "execution_count": 89,
   "metadata": {},
   "outputs": [],
   "source": [
    "date_series = date_series.apply(find_season)"
   ]
  },
  {
   "cell_type": "code",
   "execution_count": 90,
   "metadata": {},
   "outputs": [
    {
     "data": {
      "text/html": [
       "<div>\n",
       "<style scoped>\n",
       "    .dataframe tbody tr th:only-of-type {\n",
       "        vertical-align: middle;\n",
       "    }\n",
       "\n",
       "    .dataframe tbody tr th {\n",
       "        vertical-align: top;\n",
       "    }\n",
       "\n",
       "    .dataframe thead th {\n",
       "        text-align: right;\n",
       "    }\n",
       "</style>\n",
       "<table border=\"1\" class=\"dataframe\">\n",
       "  <thead>\n",
       "    <tr style=\"text-align: right;\">\n",
       "      <th></th>\n",
       "      <th>id</th>\n",
       "      <th>price</th>\n",
       "      <th>bedrooms</th>\n",
       "      <th>bathrooms</th>\n",
       "      <th>sqft_living</th>\n",
       "      <th>sqft_lot</th>\n",
       "      <th>floors</th>\n",
       "      <th>waterfront</th>\n",
       "      <th>view</th>\n",
       "      <th>condition</th>\n",
       "      <th>...</th>\n",
       "      <th>sqft_above</th>\n",
       "      <th>sqft_basement</th>\n",
       "      <th>yr_built</th>\n",
       "      <th>yr_renovated</th>\n",
       "      <th>zipcode</th>\n",
       "      <th>lat</th>\n",
       "      <th>long</th>\n",
       "      <th>sqft_living15</th>\n",
       "      <th>sqft_lot15</th>\n",
       "      <th>season</th>\n",
       "    </tr>\n",
       "  </thead>\n",
       "  <tbody>\n",
       "    <tr>\n",
       "      <th>0</th>\n",
       "      <td>7129300520</td>\n",
       "      <td>221900.0</td>\n",
       "      <td>3</td>\n",
       "      <td>1.00</td>\n",
       "      <td>1180</td>\n",
       "      <td>5650</td>\n",
       "      <td>1.0</td>\n",
       "      <td>NaN</td>\n",
       "      <td>0.0</td>\n",
       "      <td>3</td>\n",
       "      <td>...</td>\n",
       "      <td>1180</td>\n",
       "      <td>0.0</td>\n",
       "      <td>1955</td>\n",
       "      <td>0.0</td>\n",
       "      <td>98178</td>\n",
       "      <td>47.5112</td>\n",
       "      <td>-122.257</td>\n",
       "      <td>1340</td>\n",
       "      <td>5650</td>\n",
       "      <td>3</td>\n",
       "    </tr>\n",
       "    <tr>\n",
       "      <th>1</th>\n",
       "      <td>6414100192</td>\n",
       "      <td>538000.0</td>\n",
       "      <td>3</td>\n",
       "      <td>2.25</td>\n",
       "      <td>2570</td>\n",
       "      <td>7242</td>\n",
       "      <td>2.0</td>\n",
       "      <td>0.0</td>\n",
       "      <td>0.0</td>\n",
       "      <td>3</td>\n",
       "      <td>...</td>\n",
       "      <td>2170</td>\n",
       "      <td>400.0</td>\n",
       "      <td>1951</td>\n",
       "      <td>1991.0</td>\n",
       "      <td>98125</td>\n",
       "      <td>47.7210</td>\n",
       "      <td>-122.319</td>\n",
       "      <td>1690</td>\n",
       "      <td>7639</td>\n",
       "      <td>3</td>\n",
       "    </tr>\n",
       "    <tr>\n",
       "      <th>2</th>\n",
       "      <td>5631500400</td>\n",
       "      <td>180000.0</td>\n",
       "      <td>2</td>\n",
       "      <td>1.00</td>\n",
       "      <td>770</td>\n",
       "      <td>10000</td>\n",
       "      <td>1.0</td>\n",
       "      <td>0.0</td>\n",
       "      <td>0.0</td>\n",
       "      <td>3</td>\n",
       "      <td>...</td>\n",
       "      <td>770</td>\n",
       "      <td>0.0</td>\n",
       "      <td>1933</td>\n",
       "      <td>NaN</td>\n",
       "      <td>98028</td>\n",
       "      <td>47.7379</td>\n",
       "      <td>-122.233</td>\n",
       "      <td>2720</td>\n",
       "      <td>8062</td>\n",
       "      <td>4</td>\n",
       "    </tr>\n",
       "    <tr>\n",
       "      <th>3</th>\n",
       "      <td>2487200875</td>\n",
       "      <td>604000.0</td>\n",
       "      <td>4</td>\n",
       "      <td>3.00</td>\n",
       "      <td>1960</td>\n",
       "      <td>5000</td>\n",
       "      <td>1.0</td>\n",
       "      <td>0.0</td>\n",
       "      <td>0.0</td>\n",
       "      <td>5</td>\n",
       "      <td>...</td>\n",
       "      <td>1050</td>\n",
       "      <td>910.0</td>\n",
       "      <td>1965</td>\n",
       "      <td>0.0</td>\n",
       "      <td>98136</td>\n",
       "      <td>47.5208</td>\n",
       "      <td>-122.393</td>\n",
       "      <td>1360</td>\n",
       "      <td>5000</td>\n",
       "      <td>3</td>\n",
       "    </tr>\n",
       "    <tr>\n",
       "      <th>4</th>\n",
       "      <td>1954400510</td>\n",
       "      <td>510000.0</td>\n",
       "      <td>3</td>\n",
       "      <td>2.00</td>\n",
       "      <td>1680</td>\n",
       "      <td>8080</td>\n",
       "      <td>1.0</td>\n",
       "      <td>0.0</td>\n",
       "      <td>0.0</td>\n",
       "      <td>3</td>\n",
       "      <td>...</td>\n",
       "      <td>1680</td>\n",
       "      <td>0.0</td>\n",
       "      <td>1987</td>\n",
       "      <td>0.0</td>\n",
       "      <td>98074</td>\n",
       "      <td>47.6168</td>\n",
       "      <td>-122.045</td>\n",
       "      <td>1800</td>\n",
       "      <td>7503</td>\n",
       "      <td>4</td>\n",
       "    </tr>\n",
       "  </tbody>\n",
       "</table>\n",
       "<p>5 rows × 21 columns</p>\n",
       "</div>"
      ],
      "text/plain": [
       "           id     price  bedrooms  bathrooms  sqft_living  sqft_lot  floors  \\\n",
       "0  7129300520  221900.0         3       1.00         1180      5650     1.0   \n",
       "1  6414100192  538000.0         3       2.25         2570      7242     2.0   \n",
       "2  5631500400  180000.0         2       1.00          770     10000     1.0   \n",
       "3  2487200875  604000.0         4       3.00         1960      5000     1.0   \n",
       "4  1954400510  510000.0         3       2.00         1680      8080     1.0   \n",
       "\n",
       "   waterfront  view  condition   ...    sqft_above  sqft_basement  yr_built  \\\n",
       "0         NaN   0.0          3   ...          1180            0.0      1955   \n",
       "1         0.0   0.0          3   ...          2170          400.0      1951   \n",
       "2         0.0   0.0          3   ...           770            0.0      1933   \n",
       "3         0.0   0.0          5   ...          1050          910.0      1965   \n",
       "4         0.0   0.0          3   ...          1680            0.0      1987   \n",
       "\n",
       "   yr_renovated  zipcode      lat     long  sqft_living15  sqft_lot15  season  \n",
       "0           0.0    98178  47.5112 -122.257           1340        5650       3  \n",
       "1        1991.0    98125  47.7210 -122.319           1690        7639       3  \n",
       "2           NaN    98028  47.7379 -122.233           2720        8062       4  \n",
       "3           0.0    98136  47.5208 -122.393           1360        5000       3  \n",
       "4           0.0    98074  47.6168 -122.045           1800        7503       4  \n",
       "\n",
       "[5 rows x 21 columns]"
      ]
     },
     "execution_count": 90,
     "metadata": {},
     "output_type": "execute_result"
    }
   ],
   "source": [
    "kc_df = pd.concat([kc_df, date_series], axis =1)\n",
    "kc_df.rename(columns={0:'season'}, \n",
    "                 inplace=True) \n",
    "kc_df.loc[kc_df[\"season\"]=='spring','season'] = 1\n",
    "kc_df.loc[kc_df[\"season\"]=='summer','season'] = 2\n",
    "kc_df.loc[kc_df[\"season\"]=='autumn','season'] = 3\n",
    "kc_df.loc[kc_df[\"season\"]=='winter','season'] = 4\n",
    "kc_df.head()"
   ]
  },
  {
   "cell_type": "markdown",
   "metadata": {},
   "source": [
    "We notice that waterfront is a categorical set of data - a 1 indicates that something is on the water, and a 0 means it is not. A null value means that it is unknown whether or not the property is on the water. We will change the waterfront type to a categorical variable and then use dummy variables to append two dummy variable columns to the end of the dataframe. "
   ]
  },
  {
   "cell_type": "code",
   "execution_count": 91,
   "metadata": {
    "scrolled": true
   },
   "outputs": [
    {
     "name": "stdout",
     "output_type": "stream",
     "text": [
      "<class 'pandas.core.frame.DataFrame'>\n",
      "RangeIndex: 21597 entries, 0 to 21596\n",
      "Data columns (total 21 columns):\n",
      "id               21597 non-null int64\n",
      "price            21597 non-null float64\n",
      "bedrooms         21597 non-null int64\n",
      "bathrooms        21597 non-null float64\n",
      "sqft_living      21597 non-null int64\n",
      "sqft_lot         21597 non-null int64\n",
      "floors           21597 non-null float64\n",
      "waterfront       19221 non-null category\n",
      "view             21534 non-null float64\n",
      "condition        21597 non-null int64\n",
      "grade            21597 non-null int64\n",
      "sqft_above       21597 non-null int64\n",
      "sqft_basement    21143 non-null float64\n",
      "yr_built         21597 non-null int64\n",
      "yr_renovated     17755 non-null float64\n",
      "zipcode          21597 non-null int64\n",
      "lat              21597 non-null float64\n",
      "long             21597 non-null float64\n",
      "sqft_living15    21597 non-null int64\n",
      "sqft_lot15       21597 non-null int64\n",
      "season           21597 non-null int64\n",
      "dtypes: category(1), float64(8), int64(12)\n",
      "memory usage: 3.3 MB\n"
     ]
    }
   ],
   "source": [
    "water_series = pd.Series(kc_df.waterfront)\n",
    "kc_df['waterfront'] = water_series.astype('category')\n",
    "kc_df.info()"
   ]
  },
  {
   "cell_type": "code",
   "execution_count": 92,
   "metadata": {
    "scrolled": false
   },
   "outputs": [
    {
     "data": {
      "text/html": [
       "<div>\n",
       "<style scoped>\n",
       "    .dataframe tbody tr th:only-of-type {\n",
       "        vertical-align: middle;\n",
       "    }\n",
       "\n",
       "    .dataframe tbody tr th {\n",
       "        vertical-align: top;\n",
       "    }\n",
       "\n",
       "    .dataframe thead th {\n",
       "        text-align: right;\n",
       "    }\n",
       "</style>\n",
       "<table border=\"1\" class=\"dataframe\">\n",
       "  <thead>\n",
       "    <tr style=\"text-align: right;\">\n",
       "      <th></th>\n",
       "      <th>0</th>\n",
       "      <th>1</th>\n",
       "      <th>2</th>\n",
       "      <th>3</th>\n",
       "      <th>4</th>\n",
       "    </tr>\n",
       "  </thead>\n",
       "  <tbody>\n",
       "    <tr>\n",
       "      <th>id</th>\n",
       "      <td>7.129301e+09</td>\n",
       "      <td>6.414100e+09</td>\n",
       "      <td>5.631500e+09</td>\n",
       "      <td>2.487201e+09</td>\n",
       "      <td>1.954401e+09</td>\n",
       "    </tr>\n",
       "    <tr>\n",
       "      <th>price</th>\n",
       "      <td>2.219000e+05</td>\n",
       "      <td>5.380000e+05</td>\n",
       "      <td>1.800000e+05</td>\n",
       "      <td>6.040000e+05</td>\n",
       "      <td>5.100000e+05</td>\n",
       "    </tr>\n",
       "    <tr>\n",
       "      <th>bedrooms</th>\n",
       "      <td>3.000000e+00</td>\n",
       "      <td>3.000000e+00</td>\n",
       "      <td>2.000000e+00</td>\n",
       "      <td>4.000000e+00</td>\n",
       "      <td>3.000000e+00</td>\n",
       "    </tr>\n",
       "    <tr>\n",
       "      <th>bathrooms</th>\n",
       "      <td>1.000000e+00</td>\n",
       "      <td>2.250000e+00</td>\n",
       "      <td>1.000000e+00</td>\n",
       "      <td>3.000000e+00</td>\n",
       "      <td>2.000000e+00</td>\n",
       "    </tr>\n",
       "    <tr>\n",
       "      <th>sqft_living</th>\n",
       "      <td>1.180000e+03</td>\n",
       "      <td>2.570000e+03</td>\n",
       "      <td>7.700000e+02</td>\n",
       "      <td>1.960000e+03</td>\n",
       "      <td>1.680000e+03</td>\n",
       "    </tr>\n",
       "    <tr>\n",
       "      <th>sqft_lot</th>\n",
       "      <td>5.650000e+03</td>\n",
       "      <td>7.242000e+03</td>\n",
       "      <td>1.000000e+04</td>\n",
       "      <td>5.000000e+03</td>\n",
       "      <td>8.080000e+03</td>\n",
       "    </tr>\n",
       "    <tr>\n",
       "      <th>floors</th>\n",
       "      <td>1.000000e+00</td>\n",
       "      <td>2.000000e+00</td>\n",
       "      <td>1.000000e+00</td>\n",
       "      <td>1.000000e+00</td>\n",
       "      <td>1.000000e+00</td>\n",
       "    </tr>\n",
       "    <tr>\n",
       "      <th>view</th>\n",
       "      <td>0.000000e+00</td>\n",
       "      <td>0.000000e+00</td>\n",
       "      <td>0.000000e+00</td>\n",
       "      <td>0.000000e+00</td>\n",
       "      <td>0.000000e+00</td>\n",
       "    </tr>\n",
       "    <tr>\n",
       "      <th>condition</th>\n",
       "      <td>3.000000e+00</td>\n",
       "      <td>3.000000e+00</td>\n",
       "      <td>3.000000e+00</td>\n",
       "      <td>5.000000e+00</td>\n",
       "      <td>3.000000e+00</td>\n",
       "    </tr>\n",
       "    <tr>\n",
       "      <th>grade</th>\n",
       "      <td>7.000000e+00</td>\n",
       "      <td>7.000000e+00</td>\n",
       "      <td>6.000000e+00</td>\n",
       "      <td>7.000000e+00</td>\n",
       "      <td>8.000000e+00</td>\n",
       "    </tr>\n",
       "    <tr>\n",
       "      <th>sqft_above</th>\n",
       "      <td>1.180000e+03</td>\n",
       "      <td>2.170000e+03</td>\n",
       "      <td>7.700000e+02</td>\n",
       "      <td>1.050000e+03</td>\n",
       "      <td>1.680000e+03</td>\n",
       "    </tr>\n",
       "    <tr>\n",
       "      <th>sqft_basement</th>\n",
       "      <td>0.000000e+00</td>\n",
       "      <td>4.000000e+02</td>\n",
       "      <td>0.000000e+00</td>\n",
       "      <td>9.100000e+02</td>\n",
       "      <td>0.000000e+00</td>\n",
       "    </tr>\n",
       "    <tr>\n",
       "      <th>yr_built</th>\n",
       "      <td>1.955000e+03</td>\n",
       "      <td>1.951000e+03</td>\n",
       "      <td>1.933000e+03</td>\n",
       "      <td>1.965000e+03</td>\n",
       "      <td>1.987000e+03</td>\n",
       "    </tr>\n",
       "    <tr>\n",
       "      <th>yr_renovated</th>\n",
       "      <td>0.000000e+00</td>\n",
       "      <td>1.991000e+03</td>\n",
       "      <td>NaN</td>\n",
       "      <td>0.000000e+00</td>\n",
       "      <td>0.000000e+00</td>\n",
       "    </tr>\n",
       "    <tr>\n",
       "      <th>zipcode</th>\n",
       "      <td>9.817800e+04</td>\n",
       "      <td>9.812500e+04</td>\n",
       "      <td>9.802800e+04</td>\n",
       "      <td>9.813600e+04</td>\n",
       "      <td>9.807400e+04</td>\n",
       "    </tr>\n",
       "    <tr>\n",
       "      <th>lat</th>\n",
       "      <td>4.751120e+01</td>\n",
       "      <td>4.772100e+01</td>\n",
       "      <td>4.773790e+01</td>\n",
       "      <td>4.752080e+01</td>\n",
       "      <td>4.761680e+01</td>\n",
       "    </tr>\n",
       "    <tr>\n",
       "      <th>long</th>\n",
       "      <td>-1.222570e+02</td>\n",
       "      <td>-1.223190e+02</td>\n",
       "      <td>-1.222330e+02</td>\n",
       "      <td>-1.223930e+02</td>\n",
       "      <td>-1.220450e+02</td>\n",
       "    </tr>\n",
       "    <tr>\n",
       "      <th>sqft_living15</th>\n",
       "      <td>1.340000e+03</td>\n",
       "      <td>1.690000e+03</td>\n",
       "      <td>2.720000e+03</td>\n",
       "      <td>1.360000e+03</td>\n",
       "      <td>1.800000e+03</td>\n",
       "    </tr>\n",
       "    <tr>\n",
       "      <th>sqft_lot15</th>\n",
       "      <td>5.650000e+03</td>\n",
       "      <td>7.639000e+03</td>\n",
       "      <td>8.062000e+03</td>\n",
       "      <td>5.000000e+03</td>\n",
       "      <td>7.503000e+03</td>\n",
       "    </tr>\n",
       "    <tr>\n",
       "      <th>season</th>\n",
       "      <td>3.000000e+00</td>\n",
       "      <td>3.000000e+00</td>\n",
       "      <td>4.000000e+00</td>\n",
       "      <td>3.000000e+00</td>\n",
       "      <td>4.000000e+00</td>\n",
       "    </tr>\n",
       "    <tr>\n",
       "      <th>waterfront_0.0</th>\n",
       "      <td>0.000000e+00</td>\n",
       "      <td>1.000000e+00</td>\n",
       "      <td>1.000000e+00</td>\n",
       "      <td>1.000000e+00</td>\n",
       "      <td>1.000000e+00</td>\n",
       "    </tr>\n",
       "    <tr>\n",
       "      <th>waterfront</th>\n",
       "      <td>0.000000e+00</td>\n",
       "      <td>0.000000e+00</td>\n",
       "      <td>0.000000e+00</td>\n",
       "      <td>0.000000e+00</td>\n",
       "      <td>0.000000e+00</td>\n",
       "    </tr>\n",
       "  </tbody>\n",
       "</table>\n",
       "</div>"
      ],
      "text/plain": [
       "                           0             1             2             3  \\\n",
       "id              7.129301e+09  6.414100e+09  5.631500e+09  2.487201e+09   \n",
       "price           2.219000e+05  5.380000e+05  1.800000e+05  6.040000e+05   \n",
       "bedrooms        3.000000e+00  3.000000e+00  2.000000e+00  4.000000e+00   \n",
       "bathrooms       1.000000e+00  2.250000e+00  1.000000e+00  3.000000e+00   \n",
       "sqft_living     1.180000e+03  2.570000e+03  7.700000e+02  1.960000e+03   \n",
       "sqft_lot        5.650000e+03  7.242000e+03  1.000000e+04  5.000000e+03   \n",
       "floors          1.000000e+00  2.000000e+00  1.000000e+00  1.000000e+00   \n",
       "view            0.000000e+00  0.000000e+00  0.000000e+00  0.000000e+00   \n",
       "condition       3.000000e+00  3.000000e+00  3.000000e+00  5.000000e+00   \n",
       "grade           7.000000e+00  7.000000e+00  6.000000e+00  7.000000e+00   \n",
       "sqft_above      1.180000e+03  2.170000e+03  7.700000e+02  1.050000e+03   \n",
       "sqft_basement   0.000000e+00  4.000000e+02  0.000000e+00  9.100000e+02   \n",
       "yr_built        1.955000e+03  1.951000e+03  1.933000e+03  1.965000e+03   \n",
       "yr_renovated    0.000000e+00  1.991000e+03           NaN  0.000000e+00   \n",
       "zipcode         9.817800e+04  9.812500e+04  9.802800e+04  9.813600e+04   \n",
       "lat             4.751120e+01  4.772100e+01  4.773790e+01  4.752080e+01   \n",
       "long           -1.222570e+02 -1.223190e+02 -1.222330e+02 -1.223930e+02   \n",
       "sqft_living15   1.340000e+03  1.690000e+03  2.720000e+03  1.360000e+03   \n",
       "sqft_lot15      5.650000e+03  7.639000e+03  8.062000e+03  5.000000e+03   \n",
       "season          3.000000e+00  3.000000e+00  4.000000e+00  3.000000e+00   \n",
       "waterfront_0.0  0.000000e+00  1.000000e+00  1.000000e+00  1.000000e+00   \n",
       "waterfront      0.000000e+00  0.000000e+00  0.000000e+00  0.000000e+00   \n",
       "\n",
       "                           4  \n",
       "id              1.954401e+09  \n",
       "price           5.100000e+05  \n",
       "bedrooms        3.000000e+00  \n",
       "bathrooms       2.000000e+00  \n",
       "sqft_living     1.680000e+03  \n",
       "sqft_lot        8.080000e+03  \n",
       "floors          1.000000e+00  \n",
       "view            0.000000e+00  \n",
       "condition       3.000000e+00  \n",
       "grade           8.000000e+00  \n",
       "sqft_above      1.680000e+03  \n",
       "sqft_basement   0.000000e+00  \n",
       "yr_built        1.987000e+03  \n",
       "yr_renovated    0.000000e+00  \n",
       "zipcode         9.807400e+04  \n",
       "lat             4.761680e+01  \n",
       "long           -1.220450e+02  \n",
       "sqft_living15   1.800000e+03  \n",
       "sqft_lot15      7.503000e+03  \n",
       "season          4.000000e+00  \n",
       "waterfront_0.0  1.000000e+00  \n",
       "waterfront      0.000000e+00  "
      ]
     },
     "execution_count": 92,
     "metadata": {},
     "output_type": "execute_result"
    }
   ],
   "source": [
    "kc_df = pd.get_dummies(kc_df)\n",
    "kc_df = kc_df.rename(columns={\"waterfront_1.0\": \"waterfront\"})\n",
    "kc_df.head().T"
   ]
  },
  {
   "cell_type": "markdown",
   "metadata": {},
   "source": [
    "## Location, location, location"
   ]
  },
  {
   "cell_type": "markdown",
   "metadata": {},
   "source": [
    "We combine latitude and longitude into one feature called coordinates."
   ]
  },
  {
   "cell_type": "code",
   "execution_count": 93,
   "metadata": {},
   "outputs": [],
   "source": [
    "coords = tuple(zip(kc_df.loc[:,'lat'], kc_df.loc[:,'long']))\n",
    "coordinates = pd.Series(coords)\n",
    "kc_df['coordinates'] = coordinates"
   ]
  },
  {
   "cell_type": "markdown",
   "metadata": {},
   "source": [
    "What areas have expensive houses? If the property is near an \"expensive area,\" we hypothesize that its location will affect the price of the home. To find \"expensive areas,\" we look at the median home value (as opposed to mean, thus lessening outliers' effects) grouped by zipcodes:"
   ]
  },
  {
   "cell_type": "code",
   "execution_count": 94,
   "metadata": {
    "scrolled": true
   },
   "outputs": [
    {
     "data": {
      "text/plain": [
       "<module 'matplotlib.tight_layout' from '/Users/tjjj/anaconda3/lib/python3.7/site-packages/matplotlib/tight_layout.py'>"
      ]
     },
     "execution_count": 94,
     "metadata": {},
     "output_type": "execute_result"
    },
    {
     "data": {
      "image/png": "[encoded data removed]",
      "text/plain": [
       "<Figure size 1080x720 with 1 Axes>"
      ]
     },
     "metadata": {
      "needs_background": "light"
     },
     "output_type": "display_data"
    }
   ],
   "source": [
    "kc_df.plot(kind=\"scatter\", x=\"zipcode\", y=\"price\", alpha=0.8, figsize=(15,10))\n",
    "plt.tight_layout"
   ]
  },
  {
   "cell_type": "code",
   "execution_count": 95,
   "metadata": {},
   "outputs": [],
   "source": [
    "price_zips_df = kc_df[['price','zipcode']]"
   ]
  },
  {
   "cell_type": "code",
   "execution_count": 96,
   "metadata": {},
   "outputs": [],
   "source": [
    "median_zip_prices_df = price_zips_df.groupby(['zipcode']).median()"
   ]
  },
  {
   "cell_type": "code",
   "execution_count": 97,
   "metadata": {
    "scrolled": true
   },
   "outputs": [
    {
     "data": {
      "text/html": [
       "<div>\n",
       "<style scoped>\n",
       "    .dataframe tbody tr th:only-of-type {\n",
       "        vertical-align: middle;\n",
       "    }\n",
       "\n",
       "    .dataframe tbody tr th {\n",
       "        vertical-align: top;\n",
       "    }\n",
       "\n",
       "    .dataframe thead th {\n",
       "        text-align: right;\n",
       "    }\n",
       "</style>\n",
       "<table border=\"1\" class=\"dataframe\">\n",
       "  <thead>\n",
       "    <tr style=\"text-align: right;\">\n",
       "      <th></th>\n",
       "      <th>price</th>\n",
       "    </tr>\n",
       "    <tr>\n",
       "      <th>zipcode</th>\n",
       "      <th></th>\n",
       "    </tr>\n",
       "  </thead>\n",
       "  <tbody>\n",
       "    <tr>\n",
       "      <th>98027</th>\n",
       "      <td>570500.0</td>\n",
       "    </tr>\n",
       "    <tr>\n",
       "      <th>98122</th>\n",
       "      <td>572000.0</td>\n",
       "    </tr>\n",
       "    <tr>\n",
       "      <th>98029</th>\n",
       "      <td>575000.0</td>\n",
       "    </tr>\n",
       "    <tr>\n",
       "      <th>98052</th>\n",
       "      <td>615000.0</td>\n",
       "    </tr>\n",
       "    <tr>\n",
       "      <th>98053</th>\n",
       "      <td>635000.0</td>\n",
       "    </tr>\n",
       "    <tr>\n",
       "      <th>98074</th>\n",
       "      <td>642000.0</td>\n",
       "    </tr>\n",
       "    <tr>\n",
       "      <th>98077</th>\n",
       "      <td>652475.0</td>\n",
       "    </tr>\n",
       "    <tr>\n",
       "      <th>98105</th>\n",
       "      <td>675000.0</td>\n",
       "    </tr>\n",
       "    <tr>\n",
       "      <th>98033</th>\n",
       "      <td>678350.0</td>\n",
       "    </tr>\n",
       "    <tr>\n",
       "      <th>98199</th>\n",
       "      <td>689800.0</td>\n",
       "    </tr>\n",
       "    <tr>\n",
       "      <th>98102</th>\n",
       "      <td>710000.0</td>\n",
       "    </tr>\n",
       "    <tr>\n",
       "      <th>98109</th>\n",
       "      <td>736000.0</td>\n",
       "    </tr>\n",
       "    <tr>\n",
       "      <th>98075</th>\n",
       "      <td>739999.0</td>\n",
       "    </tr>\n",
       "    <tr>\n",
       "      <th>98119</th>\n",
       "      <td>744975.0</td>\n",
       "    </tr>\n",
       "    <tr>\n",
       "      <th>98006</th>\n",
       "      <td>760184.5</td>\n",
       "    </tr>\n",
       "    <tr>\n",
       "      <th>98005</th>\n",
       "      <td>765475.0</td>\n",
       "    </tr>\n",
       "    <tr>\n",
       "      <th>98112</th>\n",
       "      <td>915000.0</td>\n",
       "    </tr>\n",
       "    <tr>\n",
       "      <th>98040</th>\n",
       "      <td>993750.0</td>\n",
       "    </tr>\n",
       "    <tr>\n",
       "      <th>98004</th>\n",
       "      <td>1150000.0</td>\n",
       "    </tr>\n",
       "    <tr>\n",
       "      <th>98039</th>\n",
       "      <td>1895000.0</td>\n",
       "    </tr>\n",
       "  </tbody>\n",
       "</table>\n",
       "</div>"
      ],
      "text/plain": [
       "             price\n",
       "zipcode           \n",
       "98027     570500.0\n",
       "98122     572000.0\n",
       "98029     575000.0\n",
       "98052     615000.0\n",
       "98053     635000.0\n",
       "98074     642000.0\n",
       "98077     652475.0\n",
       "98105     675000.0\n",
       "98033     678350.0\n",
       "98199     689800.0\n",
       "98102     710000.0\n",
       "98109     736000.0\n",
       "98075     739999.0\n",
       "98119     744975.0\n",
       "98006     760184.5\n",
       "98005     765475.0\n",
       "98112     915000.0\n",
       "98040     993750.0\n",
       "98004    1150000.0\n",
       "98039    1895000.0"
      ]
     },
     "execution_count": 97,
     "metadata": {},
     "output_type": "execute_result"
    }
   ],
   "source": [
    "median_zip_prices_df.sort_values(by=['price']).tail(20)"
   ]
  },
  {
   "cell_type": "markdown",
   "metadata": {},
   "source": [
    "Pressed a bit for time and unfamiliar with the syntax we might use to make a function that did this, we opted to check these twenty zipcodes by hand to see where these \"expensive areas\" are. Are they all near Seattle? Nope! We found that all these \"expensive areas\" are near (less than ~5 miles from) the following coordinates:    "
   ]
  },
  {
   "cell_type": "code",
   "execution_count": 98,
   "metadata": {},
   "outputs": [],
   "source": [
    "downtown_seattle = (47.3633, -122.19584)\n",
    "downtown_bellevue = (47.617382, -122.188503)\n",
    "pine_lake = (47.587821, -122.034408)\n",
    "magnolia = (47.649777, -122.399839)\n",
    "woodinville = (47.757905, -122.049466)\n",
    "kirkland = (47.676908, -122.192552)\n",
    "tiger_mtn = (47.498987, -121.959350)\n",
    "issaquah = (47.558402, -122.007307)\n",
    "redmond = (47.659389, -122.056730)"
   ]
  },
  {
   "cell_type": "markdown",
   "metadata": {},
   "source": [
    "Now we'll create columns that contain the distance from these \"expensive areas.\" Haversine is what we'll use since it's easy and our distances are not very big. Basically, it approximates the earth is a perfect sphere and that's okay for our purposes."
   ]
  },
  {
   "cell_type": "code",
   "execution_count": 99,
   "metadata": {},
   "outputs": [],
   "source": [
    "from haversine import haversine \n",
    "\n",
    "dt_seattle_mi = []\n",
    "for row in kc_df.coordinates:\n",
    "    a = haversine(row, downtown_seattle, unit='mi')\n",
    "    dt_seattle_mi.append(a) \n",
    "kc_df['seattle_dist'] = dt_seattle_mi\n",
    "\n",
    "dt_bellevue_mi = []\n",
    "for row in kc_df.coordinates:\n",
    "    a = haversine(row, downtown_bellevue, unit='mi')\n",
    "    dt_bellevue_mi.append(a)\n",
    "kc_df['bellevue_dist'] = dt_bellevue_mi\n",
    "\n",
    "pine_lake_mi = []\n",
    "for row in kc_df.coordinates:\n",
    "    a = haversine(row, pine_lake, unit='mi')\n",
    "    pine_lake_mi.append(a)\n",
    "kc_df['pine_lake_dist'] = pine_lake_mi\n",
    "\n",
    "magnolia_mi = []\n",
    "for row in kc_df.coordinates:\n",
    "    a = haversine(row, magnolia, unit='mi')\n",
    "    magnolia_mi.append(a)\n",
    "kc_df['magnolia_dist'] = magnolia_mi\n",
    "\n",
    "woodinville_mi = []\n",
    "for row in kc_df.coordinates:\n",
    "    a = haversine(row, woodinville, unit='mi')\n",
    "    woodinville_mi.append(a)\n",
    "kc_df['woodinville_dist'] = woodinville_mi\n",
    "\n",
    "kirkland_mi = []\n",
    "for row in kc_df.coordinates:\n",
    "    a = haversine(row, kirkland, unit='mi')\n",
    "    kirkland_mi.append(a)\n",
    "kc_df['kirkland_dist'] = kirkland_mi\n",
    "\n",
    "tiger_mtn_mi = []\n",
    "for row in kc_df.coordinates:\n",
    "    a = haversine(row, tiger_mtn, unit='mi')\n",
    "    tiger_mtn_mi.append(a)\n",
    "kc_df['tiger_mtn_dist'] = tiger_mtn_mi\n",
    "\n",
    "issaquah_mi = []\n",
    "for row in kc_df.coordinates:\n",
    "    a = haversine(row, issaquah, unit='mi')\n",
    "    issaquah_mi.append(a)\n",
    "kc_df['issaquah_dist'] = issaquah_mi\n",
    "\n",
    "redmond_mi = []\n",
    "for row in kc_df.coordinates:\n",
    "    a = haversine(row, redmond, unit='mi')\n",
    "    redmond_mi.append(a)\n",
    "kc_df['redmond_dist'] = redmond_mi"
   ]
  },
  {
   "cell_type": "markdown",
   "metadata": {},
   "source": [
    "Some of these areas are more \"expensive\" than other areas, and so we have a hunch that grouping them together may make sense. For instance, being close to downtown Seattle may have a more widespread effect than being close to  to Tiger State Park because of commerce and population sizes for those areas. So, we can judge the distance from each of these differently. For now, I'll try splitting the data into two sets based loosely on distance from \"commerce centers\" vs. \"residential/recreation centers.\""
   ]
  },
  {
   "cell_type": "code",
   "execution_count": 100,
   "metadata": {},
   "outputs": [],
   "source": [
    "#create a column of distances (mi) from the \"commerce centers\"\n",
    "comm_distances = kc_df[['seattle_dist', 'bellevue_dist', 'redmond_dist']].min(axis=1)\n",
    "kc_df['comm_dist'] = comm_distances"
   ]
  },
  {
   "cell_type": "code",
   "execution_count": 101,
   "metadata": {},
   "outputs": [
    {
     "data": {
      "text/html": [
       "<div>\n",
       "<style scoped>\n",
       "    .dataframe tbody tr th:only-of-type {\n",
       "        vertical-align: middle;\n",
       "    }\n",
       "\n",
       "    .dataframe tbody tr th {\n",
       "        vertical-align: top;\n",
       "    }\n",
       "\n",
       "    .dataframe thead th {\n",
       "        text-align: right;\n",
       "    }\n",
       "</style>\n",
       "<table border=\"1\" class=\"dataframe\">\n",
       "  <thead>\n",
       "    <tr style=\"text-align: right;\">\n",
       "      <th></th>\n",
       "      <th>0</th>\n",
       "      <th>1</th>\n",
       "      <th>2</th>\n",
       "      <th>3</th>\n",
       "      <th>4</th>\n",
       "    </tr>\n",
       "  </thead>\n",
       "  <tbody>\n",
       "    <tr>\n",
       "      <th>id</th>\n",
       "      <td>7129300520</td>\n",
       "      <td>6414100192</td>\n",
       "      <td>5631500400</td>\n",
       "      <td>2487200875</td>\n",
       "      <td>1954400510</td>\n",
       "    </tr>\n",
       "    <tr>\n",
       "      <th>price</th>\n",
       "      <td>221900</td>\n",
       "      <td>538000</td>\n",
       "      <td>180000</td>\n",
       "      <td>604000</td>\n",
       "      <td>510000</td>\n",
       "    </tr>\n",
       "    <tr>\n",
       "      <th>bedrooms</th>\n",
       "      <td>3</td>\n",
       "      <td>3</td>\n",
       "      <td>2</td>\n",
       "      <td>4</td>\n",
       "      <td>3</td>\n",
       "    </tr>\n",
       "    <tr>\n",
       "      <th>bathrooms</th>\n",
       "      <td>1</td>\n",
       "      <td>2.25</td>\n",
       "      <td>1</td>\n",
       "      <td>3</td>\n",
       "      <td>2</td>\n",
       "    </tr>\n",
       "    <tr>\n",
       "      <th>sqft_living</th>\n",
       "      <td>1180</td>\n",
       "      <td>2570</td>\n",
       "      <td>770</td>\n",
       "      <td>1960</td>\n",
       "      <td>1680</td>\n",
       "    </tr>\n",
       "    <tr>\n",
       "      <th>sqft_lot</th>\n",
       "      <td>5650</td>\n",
       "      <td>7242</td>\n",
       "      <td>10000</td>\n",
       "      <td>5000</td>\n",
       "      <td>8080</td>\n",
       "    </tr>\n",
       "    <tr>\n",
       "      <th>floors</th>\n",
       "      <td>1</td>\n",
       "      <td>2</td>\n",
       "      <td>1</td>\n",
       "      <td>1</td>\n",
       "      <td>1</td>\n",
       "    </tr>\n",
       "    <tr>\n",
       "      <th>view</th>\n",
       "      <td>0</td>\n",
       "      <td>0</td>\n",
       "      <td>0</td>\n",
       "      <td>0</td>\n",
       "      <td>0</td>\n",
       "    </tr>\n",
       "    <tr>\n",
       "      <th>condition</th>\n",
       "      <td>3</td>\n",
       "      <td>3</td>\n",
       "      <td>3</td>\n",
       "      <td>5</td>\n",
       "      <td>3</td>\n",
       "    </tr>\n",
       "    <tr>\n",
       "      <th>grade</th>\n",
       "      <td>7</td>\n",
       "      <td>7</td>\n",
       "      <td>6</td>\n",
       "      <td>7</td>\n",
       "      <td>8</td>\n",
       "    </tr>\n",
       "    <tr>\n",
       "      <th>sqft_above</th>\n",
       "      <td>1180</td>\n",
       "      <td>2170</td>\n",
       "      <td>770</td>\n",
       "      <td>1050</td>\n",
       "      <td>1680</td>\n",
       "    </tr>\n",
       "    <tr>\n",
       "      <th>sqft_basement</th>\n",
       "      <td>0</td>\n",
       "      <td>400</td>\n",
       "      <td>0</td>\n",
       "      <td>910</td>\n",
       "      <td>0</td>\n",
       "    </tr>\n",
       "    <tr>\n",
       "      <th>yr_built</th>\n",
       "      <td>1955</td>\n",
       "      <td>1951</td>\n",
       "      <td>1933</td>\n",
       "      <td>1965</td>\n",
       "      <td>1987</td>\n",
       "    </tr>\n",
       "    <tr>\n",
       "      <th>yr_renovated</th>\n",
       "      <td>0</td>\n",
       "      <td>1991</td>\n",
       "      <td>NaN</td>\n",
       "      <td>0</td>\n",
       "      <td>0</td>\n",
       "    </tr>\n",
       "    <tr>\n",
       "      <th>zipcode</th>\n",
       "      <td>98178</td>\n",
       "      <td>98125</td>\n",
       "      <td>98028</td>\n",
       "      <td>98136</td>\n",
       "      <td>98074</td>\n",
       "    </tr>\n",
       "    <tr>\n",
       "      <th>lat</th>\n",
       "      <td>47.5112</td>\n",
       "      <td>47.721</td>\n",
       "      <td>47.7379</td>\n",
       "      <td>47.5208</td>\n",
       "      <td>47.6168</td>\n",
       "    </tr>\n",
       "    <tr>\n",
       "      <th>long</th>\n",
       "      <td>-122.257</td>\n",
       "      <td>-122.319</td>\n",
       "      <td>-122.233</td>\n",
       "      <td>-122.393</td>\n",
       "      <td>-122.045</td>\n",
       "    </tr>\n",
       "    <tr>\n",
       "      <th>sqft_living15</th>\n",
       "      <td>1340</td>\n",
       "      <td>1690</td>\n",
       "      <td>2720</td>\n",
       "      <td>1360</td>\n",
       "      <td>1800</td>\n",
       "    </tr>\n",
       "    <tr>\n",
       "      <th>sqft_lot15</th>\n",
       "      <td>5650</td>\n",
       "      <td>7639</td>\n",
       "      <td>8062</td>\n",
       "      <td>5000</td>\n",
       "      <td>7503</td>\n",
       "    </tr>\n",
       "    <tr>\n",
       "      <th>season</th>\n",
       "      <td>3</td>\n",
       "      <td>3</td>\n",
       "      <td>4</td>\n",
       "      <td>3</td>\n",
       "      <td>4</td>\n",
       "    </tr>\n",
       "    <tr>\n",
       "      <th>waterfront_0.0</th>\n",
       "      <td>0</td>\n",
       "      <td>1</td>\n",
       "      <td>1</td>\n",
       "      <td>1</td>\n",
       "      <td>1</td>\n",
       "    </tr>\n",
       "    <tr>\n",
       "      <th>waterfront</th>\n",
       "      <td>0</td>\n",
       "      <td>0</td>\n",
       "      <td>0</td>\n",
       "      <td>0</td>\n",
       "      <td>0</td>\n",
       "    </tr>\n",
       "    <tr>\n",
       "      <th>coordinates</th>\n",
       "      <td>(47.5112, -122.257)</td>\n",
       "      <td>(47.721000000000004, -122.319)</td>\n",
       "      <td>(47.7379, -122.23299999999999)</td>\n",
       "      <td>(47.5208, -122.39299999999999)</td>\n",
       "      <td>(47.6168, -122.045)</td>\n",
       "    </tr>\n",
       "    <tr>\n",
       "      <th>seattle_dist</th>\n",
       "      <td>10.6111</td>\n",
       "      <td>25.3735</td>\n",
       "      <td>25.9403</td>\n",
       "      <td>14.2586</td>\n",
       "      <td>18.8779</td>\n",
       "    </tr>\n",
       "    <tr>\n",
       "      <th>bellevue_dist</th>\n",
       "      <td>8.00137</td>\n",
       "      <td>9.38736</td>\n",
       "      <td>8.58044</td>\n",
       "      <td>11.6366</td>\n",
       "      <td>6.68372</td>\n",
       "    </tr>\n",
       "    <tr>\n",
       "      <th>pine_lake_dist</th>\n",
       "      <td>11.6525</td>\n",
       "      <td>16.1279</td>\n",
       "      <td>13.8898</td>\n",
       "      <td>17.3507</td>\n",
       "      <td>2.06217</td>\n",
       "    </tr>\n",
       "    <tr>\n",
       "      <th>magnolia_dist</th>\n",
       "      <td>11.6617</td>\n",
       "      <td>6.19316</td>\n",
       "      <td>9.86283</td>\n",
       "      <td>8.91716</td>\n",
       "      <td>16.6777</td>\n",
       "    </tr>\n",
       "    <tr>\n",
       "      <th>woodinville_dist</th>\n",
       "      <td>19.5939</td>\n",
       "      <td>12.781</td>\n",
       "      <td>8.63793</td>\n",
       "      <td>22.8946</td>\n",
       "      <td>9.75164</td>\n",
       "    </tr>\n",
       "    <tr>\n",
       "      <th>kirkland_dist</th>\n",
       "      <td>11.8366</td>\n",
       "      <td>6.62238</td>\n",
       "      <td>4.61472</td>\n",
       "      <td>14.2673</td>\n",
       "      <td>8.02627</td>\n",
       "    </tr>\n",
       "    <tr>\n",
       "      <th>tiger_mtn_dist</th>\n",
       "      <td>13.9182</td>\n",
       "      <td>22.7148</td>\n",
       "      <td>20.8548</td>\n",
       "      <td>20.2945</td>\n",
       "      <td>9.06699</td>\n",
       "    </tr>\n",
       "    <tr>\n",
       "      <th>issaquah_dist</th>\n",
       "      <td>12.0956</td>\n",
       "      <td>18.3514</td>\n",
       "      <td>16.2534</td>\n",
       "      <td>18.1767</td>\n",
       "      <td>4.40068</td>\n",
       "    </tr>\n",
       "    <tr>\n",
       "      <th>redmond_dist</th>\n",
       "      <td>13.8543</td>\n",
       "      <td>12.9195</td>\n",
       "      <td>9.82931</td>\n",
       "      <td>18.3639</td>\n",
       "      <td>2.99286</td>\n",
       "    </tr>\n",
       "    <tr>\n",
       "      <th>comm_dist</th>\n",
       "      <td>8.00137</td>\n",
       "      <td>9.38736</td>\n",
       "      <td>8.58044</td>\n",
       "      <td>11.6366</td>\n",
       "      <td>2.99286</td>\n",
       "    </tr>\n",
       "    <tr>\n",
       "      <th>center_dist</th>\n",
       "      <td>8.00137</td>\n",
       "      <td>6.19316</td>\n",
       "      <td>4.61472</td>\n",
       "      <td>8.91716</td>\n",
       "      <td>2.06217</td>\n",
       "    </tr>\n",
       "  </tbody>\n",
       "</table>\n",
       "</div>"
      ],
      "text/plain": [
       "                                    0                               1  \\\n",
       "id                         7129300520                      6414100192   \n",
       "price                          221900                          538000   \n",
       "bedrooms                            3                               3   \n",
       "bathrooms                           1                            2.25   \n",
       "sqft_living                      1180                            2570   \n",
       "sqft_lot                         5650                            7242   \n",
       "floors                              1                               2   \n",
       "view                                0                               0   \n",
       "condition                           3                               3   \n",
       "grade                               7                               7   \n",
       "sqft_above                       1180                            2170   \n",
       "sqft_basement                       0                             400   \n",
       "yr_built                         1955                            1951   \n",
       "yr_renovated                        0                            1991   \n",
       "zipcode                         98178                           98125   \n",
       "lat                           47.5112                          47.721   \n",
       "long                         -122.257                        -122.319   \n",
       "sqft_living15                    1340                            1690   \n",
       "sqft_lot15                       5650                            7639   \n",
       "season                              3                               3   \n",
       "waterfront_0.0                      0                               1   \n",
       "waterfront                          0                               0   \n",
       "coordinates       (47.5112, -122.257)  (47.721000000000004, -122.319)   \n",
       "seattle_dist                  10.6111                         25.3735   \n",
       "bellevue_dist                 8.00137                         9.38736   \n",
       "pine_lake_dist                11.6525                         16.1279   \n",
       "magnolia_dist                 11.6617                         6.19316   \n",
       "woodinville_dist              19.5939                          12.781   \n",
       "kirkland_dist                 11.8366                         6.62238   \n",
       "tiger_mtn_dist                13.9182                         22.7148   \n",
       "issaquah_dist                 12.0956                         18.3514   \n",
       "redmond_dist                  13.8543                         12.9195   \n",
       "comm_dist                     8.00137                         9.38736   \n",
       "center_dist                   8.00137                         6.19316   \n",
       "\n",
       "                                               2  \\\n",
       "id                                    5631500400   \n",
       "price                                     180000   \n",
       "bedrooms                                       2   \n",
       "bathrooms                                      1   \n",
       "sqft_living                                  770   \n",
       "sqft_lot                                   10000   \n",
       "floors                                         1   \n",
       "view                                           0   \n",
       "condition                                      3   \n",
       "grade                                          6   \n",
       "sqft_above                                   770   \n",
       "sqft_basement                                  0   \n",
       "yr_built                                    1933   \n",
       "yr_renovated                                 NaN   \n",
       "zipcode                                    98028   \n",
       "lat                                      47.7379   \n",
       "long                                    -122.233   \n",
       "sqft_living15                               2720   \n",
       "sqft_lot15                                  8062   \n",
       "season                                         4   \n",
       "waterfront_0.0                                 1   \n",
       "waterfront                                     0   \n",
       "coordinates       (47.7379, -122.23299999999999)   \n",
       "seattle_dist                             25.9403   \n",
       "bellevue_dist                            8.58044   \n",
       "pine_lake_dist                           13.8898   \n",
       "magnolia_dist                            9.86283   \n",
       "woodinville_dist                         8.63793   \n",
       "kirkland_dist                            4.61472   \n",
       "tiger_mtn_dist                           20.8548   \n",
       "issaquah_dist                            16.2534   \n",
       "redmond_dist                             9.82931   \n",
       "comm_dist                                8.58044   \n",
       "center_dist                              4.61472   \n",
       "\n",
       "                                               3                    4  \n",
       "id                                    2487200875           1954400510  \n",
       "price                                     604000               510000  \n",
       "bedrooms                                       4                    3  \n",
       "bathrooms                                      3                    2  \n",
       "sqft_living                                 1960                 1680  \n",
       "sqft_lot                                    5000                 8080  \n",
       "floors                                         1                    1  \n",
       "view                                           0                    0  \n",
       "condition                                      5                    3  \n",
       "grade                                          7                    8  \n",
       "sqft_above                                  1050                 1680  \n",
       "sqft_basement                                910                    0  \n",
       "yr_built                                    1965                 1987  \n",
       "yr_renovated                                   0                    0  \n",
       "zipcode                                    98136                98074  \n",
       "lat                                      47.5208              47.6168  \n",
       "long                                    -122.393             -122.045  \n",
       "sqft_living15                               1360                 1800  \n",
       "sqft_lot15                                  5000                 7503  \n",
       "season                                         3                    4  \n",
       "waterfront_0.0                                 1                    1  \n",
       "waterfront                                     0                    0  \n",
       "coordinates       (47.5208, -122.39299999999999)  (47.6168, -122.045)  \n",
       "seattle_dist                             14.2586              18.8779  \n",
       "bellevue_dist                            11.6366              6.68372  \n",
       "pine_lake_dist                           17.3507              2.06217  \n",
       "magnolia_dist                            8.91716              16.6777  \n",
       "woodinville_dist                         22.8946              9.75164  \n",
       "kirkland_dist                            14.2673              8.02627  \n",
       "tiger_mtn_dist                           20.2945              9.06699  \n",
       "issaquah_dist                            18.1767              4.40068  \n",
       "redmond_dist                             18.3639              2.99286  \n",
       "comm_dist                                11.6366              2.99286  \n",
       "center_dist                              8.91716              2.06217  "
      ]
     },
     "execution_count": 101,
     "metadata": {},
     "output_type": "execute_result"
    }
   ],
   "source": [
    "#create a column that will catch if something is closer to an expensive area that is not a commerce center \n",
    "center_distances= kc_df[['seattle_dist', 'bellevue_dist', 'pine_lake_dist',\n",
    "       'magnolia_dist', 'woodinville_dist', 'kirkland_dist', 'tiger_mtn_dist',\n",
    "       'issaquah_dist', 'redmond_dist']].min(axis=1)\n",
    "kc_df['center_dist'] = center_distances\n",
    "kc_df.head().T"
   ]
  },
  {
   "cell_type": "markdown",
   "metadata": {},
   "source": [
    "Before we begin to explore the features, we'll drop id from our list of features, since we already have our information in a single dataframe and it will not help us to know the random id in order to predict the price. Also, waterfront_0.0 is redundant since it's just the inverse of waterfront_1.0 minus some null values. So, we'll drop that too, leaving 'waterfront' as our column with a 1 that indicates whether something is on the water or not. Later, we may change this to boolean values."
   ]
  },
  {
   "cell_type": "code",
   "execution_count": 102,
   "metadata": {},
   "outputs": [],
   "source": [
    "kc_df['sqft_per_room'] = kc_df['sqft_living']/(kc_df['bedrooms']+kc_df['bathrooms'])"
   ]
  },
  {
   "cell_type": "markdown",
   "metadata": {},
   "source": [
    "Create a new feature that combines grade, view, waterfront, and condition \n",
    "Step 1: log the features that have data that are not normally distributed \n",
    "\n",
    "Step 2: scale all the features \n",
    "\n",
    "Step 3: add the scaled values together"
   ]
  },
  {
   "cell_type": "code",
   "execution_count": 103,
   "metadata": {},
   "outputs": [],
   "source": [
    "# condition_log = np.log(kc_df['condition'])\n",
    "# condition_log = pd.Series(condition_log)\n",
    "# kc_df['condition_log'] = condition_log\n",
    "# kc_df = kc_df.drop('condition', axis = 1)"
   ]
  },
  {
   "cell_type": "code",
   "execution_count": 104,
   "metadata": {},
   "outputs": [
    {
     "name": "stderr",
     "output_type": "stream",
     "text": [
      "/Users/tjjj/anaconda3/lib/python3.7/site-packages/sklearn/preprocessing/data.py:625: DataConversionWarning: Data with input dtype uint8, int64, float64 were all converted to float64 by StandardScaler.\n",
      "  return self.partial_fit(X, y)\n",
      "/Users/tjjj/anaconda3/lib/python3.7/site-packages/sklearn/base.py:462: DataConversionWarning: Data with input dtype uint8, int64, float64 were all converted to float64 by StandardScaler.\n",
      "  return self.fit(X, **fit_params).transform(X)\n"
     ]
    },
    {
     "data": {
      "text/html": [
       "<div>\n",
       "<style scoped>\n",
       "    .dataframe tbody tr th:only-of-type {\n",
       "        vertical-align: middle;\n",
       "    }\n",
       "\n",
       "    .dataframe tbody tr th {\n",
       "        vertical-align: top;\n",
       "    }\n",
       "\n",
       "    .dataframe thead th {\n",
       "        text-align: right;\n",
       "    }\n",
       "</style>\n",
       "<table border=\"1\" class=\"dataframe\">\n",
       "  <thead>\n",
       "    <tr style=\"text-align: right;\">\n",
       "      <th></th>\n",
       "      <th>grade_std</th>\n",
       "      <th>view_std</th>\n",
       "      <th>waterfront_std</th>\n",
       "      <th>condition_std</th>\n",
       "    </tr>\n",
       "  </thead>\n",
       "  <tbody>\n",
       "    <tr>\n",
       "      <th>0</th>\n",
       "      <td>-0.560800</td>\n",
       "      <td>-0.305436</td>\n",
       "      <td>-0.0825</td>\n",
       "      <td>-0.629986</td>\n",
       "    </tr>\n",
       "    <tr>\n",
       "      <th>1</th>\n",
       "      <td>-0.560800</td>\n",
       "      <td>-0.305436</td>\n",
       "      <td>-0.0825</td>\n",
       "      <td>-0.629986</td>\n",
       "    </tr>\n",
       "    <tr>\n",
       "      <th>2</th>\n",
       "      <td>-1.413190</td>\n",
       "      <td>-0.305436</td>\n",
       "      <td>-0.0825</td>\n",
       "      <td>-0.629986</td>\n",
       "    </tr>\n",
       "    <tr>\n",
       "      <th>3</th>\n",
       "      <td>-0.560800</td>\n",
       "      <td>-0.305436</td>\n",
       "      <td>-0.0825</td>\n",
       "      <td>2.444427</td>\n",
       "    </tr>\n",
       "    <tr>\n",
       "      <th>4</th>\n",
       "      <td>0.291589</td>\n",
       "      <td>-0.305436</td>\n",
       "      <td>-0.0825</td>\n",
       "      <td>-0.629986</td>\n",
       "    </tr>\n",
       "  </tbody>\n",
       "</table>\n",
       "</div>"
      ],
      "text/plain": [
       "   grade_std  view_std  waterfront_std  condition_std\n",
       "0  -0.560800 -0.305436         -0.0825      -0.629986\n",
       "1  -0.560800 -0.305436         -0.0825      -0.629986\n",
       "2  -1.413190 -0.305436         -0.0825      -0.629986\n",
       "3  -0.560800 -0.305436         -0.0825       2.444427\n",
       "4   0.291589 -0.305436         -0.0825      -0.629986"
      ]
     },
     "execution_count": 104,
     "metadata": {},
     "output_type": "execute_result"
    }
   ],
   "source": [
    "#Step 2: scale all the features \n",
    "#import necessary library to use a standardscaler\n",
    "from sklearn.preprocessing import StandardScaler\n",
    "\n",
    "ss = StandardScaler()\n",
    "kc_looks_std = kc_df[['grade', 'view', 'waterfront', 'condition']]\n",
    "kc_looks_std = pd.DataFrame(ss.fit_transform(kc_looks_std),\n",
    "                          columns = ['grade_std', 'view_std', 'waterfront_std', \n",
    "                                      'condition_std'])\n",
    "    \n",
    "kc_looks_std.head()"
   ]
  },
  {
   "cell_type": "code",
   "execution_count": 105,
   "metadata": {},
   "outputs": [
    {
     "name": "stdout",
     "output_type": "stream",
     "text": [
      "<class 'pandas.core.frame.DataFrame'>\n",
      "RangeIndex: 21597 entries, 0 to 21596\n",
      "Data columns (total 36 columns):\n",
      "id                  21597 non-null int64\n",
      "price               21597 non-null float64\n",
      "bedrooms            21597 non-null int64\n",
      "bathrooms           21597 non-null float64\n",
      "sqft_living         21597 non-null int64\n",
      "sqft_lot            21597 non-null int64\n",
      "floors              21597 non-null float64\n",
      "view                21534 non-null float64\n",
      "condition           21597 non-null int64\n",
      "grade               21597 non-null int64\n",
      "sqft_above          21597 non-null int64\n",
      "sqft_basement       21143 non-null float64\n",
      "yr_built            21597 non-null int64\n",
      "yr_renovated        17755 non-null float64\n",
      "zipcode             21597 non-null int64\n",
      "lat                 21597 non-null float64\n",
      "long                21597 non-null float64\n",
      "sqft_living15       21597 non-null int64\n",
      "sqft_lot15          21597 non-null int64\n",
      "season              21597 non-null int64\n",
      "waterfront_0.0      21597 non-null uint8\n",
      "waterfront          21597 non-null uint8\n",
      "coordinates         21597 non-null object\n",
      "seattle_dist        21597 non-null float64\n",
      "bellevue_dist       21597 non-null float64\n",
      "pine_lake_dist      21597 non-null float64\n",
      "magnolia_dist       21597 non-null float64\n",
      "woodinville_dist    21597 non-null float64\n",
      "kirkland_dist       21597 non-null float64\n",
      "tiger_mtn_dist      21597 non-null float64\n",
      "issaquah_dist       21597 non-null float64\n",
      "redmond_dist        21597 non-null float64\n",
      "comm_dist           21597 non-null float64\n",
      "center_dist         21597 non-null float64\n",
      "sqft_per_room       21597 non-null float64\n",
      "appeal_std          21534 non-null float64\n",
      "dtypes: float64(21), int64(12), object(1), uint8(2)\n",
      "memory usage: 5.6+ MB\n"
     ]
    }
   ],
   "source": [
    "kc_df['appeal_std']= kc_looks_std.apply(lambda x: x['grade_std'] + \n",
    "                                          x['view_std'] + 2*x['waterfront_std'] + \n",
    "                                          x['condition_std'],axis= 1)\n",
    "kc_df.info()"
   ]
  },
  {
   "cell_type": "code",
   "execution_count": 106,
   "metadata": {},
   "outputs": [],
   "source": [
    "kc_df = kc_df.loc[~kc_df['appeal_std'].isna(), :]\n",
    "#drop the rows where appeal is null"
   ]
  },
  {
   "cell_type": "code",
   "execution_count": 107,
   "metadata": {},
   "outputs": [
    {
     "data": {
      "text/plain": [
       "Index(['id', 'price', 'bedrooms', 'bathrooms', 'sqft_living', 'sqft_lot',\n",
       "       'floors', 'view', 'condition', 'grade', 'sqft_above', 'sqft_basement',\n",
       "       'yr_built', 'yr_renovated', 'zipcode', 'lat', 'long', 'sqft_living15',\n",
       "       'sqft_lot15', 'season', 'waterfront_0.0', 'waterfront', 'coordinates',\n",
       "       'seattle_dist', 'bellevue_dist', 'pine_lake_dist', 'magnolia_dist',\n",
       "       'woodinville_dist', 'kirkland_dist', 'tiger_mtn_dist', 'issaquah_dist',\n",
       "       'redmond_dist', 'comm_dist', 'center_dist', 'sqft_per_room',\n",
       "       'appeal_std'],\n",
       "      dtype='object')"
      ]
     },
     "execution_count": 107,
     "metadata": {},
     "output_type": "execute_result"
    }
   ],
   "source": [
    "kc_df.columns"
   ]
  },
  {
   "cell_type": "code",
   "execution_count": 109,
   "metadata": {
    "scrolled": true
   },
   "outputs": [],
   "source": [
    "#drop columns we aren't going to use anymore\n",
    "kc_df = kc_df.drop(['id', 'lat', 'long', 'waterfront_0.0', 'sqft_living', 'coordinates',\n",
    "                    'sqft_basement', 'zipcode', 'yr_renovated'], axis=1) "
   ]
  },
  {
   "cell_type": "code",
   "execution_count": 110,
   "metadata": {},
   "outputs": [
    {
     "name": "stdout",
     "output_type": "stream",
     "text": [
      "<class 'pandas.core.frame.DataFrame'>\n",
      "Int64Index: 21534 entries, 0 to 21596\n",
      "Data columns (total 27 columns):\n",
      "price               21534 non-null float64\n",
      "bedrooms            21534 non-null int64\n",
      "bathrooms           21534 non-null float64\n",
      "sqft_lot            21534 non-null int64\n",
      "floors              21534 non-null float64\n",
      "view                21534 non-null float64\n",
      "condition           21534 non-null int64\n",
      "grade               21534 non-null int64\n",
      "sqft_above          21534 non-null int64\n",
      "yr_built            21534 non-null int64\n",
      "sqft_living15       21534 non-null int64\n",
      "sqft_lot15          21534 non-null int64\n",
      "season              21534 non-null int64\n",
      "waterfront          21534 non-null uint8\n",
      "seattle_dist        21534 non-null float64\n",
      "bellevue_dist       21534 non-null float64\n",
      "pine_lake_dist      21534 non-null float64\n",
      "magnolia_dist       21534 non-null float64\n",
      "woodinville_dist    21534 non-null float64\n",
      "kirkland_dist       21534 non-null float64\n",
      "tiger_mtn_dist      21534 non-null float64\n",
      "issaquah_dist       21534 non-null float64\n",
      "redmond_dist        21534 non-null float64\n",
      "comm_dist           21534 non-null float64\n",
      "center_dist         21534 non-null float64\n",
      "sqft_per_room       21534 non-null float64\n",
      "appeal_std          21534 non-null float64\n",
      "dtypes: float64(17), int64(9), uint8(1)\n",
      "memory usage: 4.5 MB\n"
     ]
    }
   ],
   "source": [
    "kc_df.info()"
   ]
  },
  {
   "cell_type": "code",
   "execution_count": 111,
   "metadata": {},
   "outputs": [],
   "source": [
    "#first we want to normalize our price data by logging it \n",
    "price_log = np.log(kc_df['price'])\n",
    "price_log = pd.Series(price_log)\n",
    "kc_df['price_log'] = price_log\n",
    "kc_df = kc_df.drop('price', axis = 1)"
   ]
  },
  {
   "cell_type": "code",
   "execution_count": 119,
   "metadata": {},
   "outputs": [
    {
     "name": "stderr",
     "output_type": "stream",
     "text": [
      "/Users/tjjj/anaconda3/lib/python3.7/site-packages/sklearn/utils/validation.py:761: DataConversionWarning: A column-vector y was passed when a 1d array was expected. Please change the shape of y to (n_samples, ), for example using ravel().\n",
      "  y = column_or_1d(y, warn=True)\n"
     ]
    },
    {
     "name": "stdout",
     "output_type": "stream",
     "text": [
      "[[   7.            7.        ]\n",
      " [1180.         2170.        ]\n",
      " [1340.         1690.        ]\n",
      " [  11.83659484    6.6223751 ]\n",
      " [  13.85433542   12.9194943 ]\n",
      " [ 295.          489.52380952]]\n"
     ]
    }
   ],
   "source": [
    "from sklearn.feature_selection import SelectKBest\n",
    "from sklearn.feature_selection import chi2\n",
    "from sklearn.feature_selection import f_classif\n",
    "\n",
    "y3 = kc_df[[\"price_log\"]]\n",
    "X3 = kc_df.drop([\"price_log\"], axis=1)\n",
    "\n",
    "X3_new = SelectKBest(score_func=f_classif,k=6).fit_transform(X3, y3)\n",
    "print(X3_new[:2].T)"
   ]
  },
  {
   "cell_type": "code",
   "execution_count": 120,
   "metadata": {
    "scrolled": true
   },
   "outputs": [
    {
     "name": "stdout",
     "output_type": "stream",
     "text": [
      "                            0            1\n",
      "bedrooms             3.000000     3.000000\n",
      "bathrooms            1.000000     2.250000\n",
      "sqft_lot          5650.000000  7242.000000\n",
      "floors               1.000000     2.000000\n",
      "view                 0.000000     0.000000\n",
      "condition            3.000000     3.000000\n",
      "grade                7.000000     7.000000\n",
      "sqft_above        1180.000000  2170.000000\n",
      "yr_built          1955.000000  1951.000000\n",
      "sqft_living15     1340.000000  1690.000000\n",
      "sqft_lot15        5650.000000  7639.000000\n",
      "season               3.000000     3.000000\n",
      "waterfront           0.000000     0.000000\n",
      "seattle_dist        10.611129    25.373495\n",
      "bellevue_dist        8.001373     9.387358\n",
      "pine_lake_dist      11.652547    16.127943\n",
      "magnolia_dist       11.661730     6.193156\n",
      "woodinville_dist    19.593891    12.780978\n",
      "kirkland_dist       11.836595     6.622375\n",
      "tiger_mtn_dist      13.918203    22.714754\n",
      "issaquah_dist       12.095620    18.351367\n",
      "redmond_dist        13.854335    12.919494\n",
      "comm_dist            8.001373     9.387358\n",
      "center_dist          8.001373     6.193156\n",
      "sqft_per_room      295.000000   489.523810\n",
      "appeal_std          -1.661222    -1.661222\n"
     ]
    }
   ],
   "source": [
    "print(X3.head(2).T)"
   ]
  },
  {
   "cell_type": "code",
   "execution_count": 118,
   "metadata": {},
   "outputs": [
    {
     "data": {
      "text/plain": [
       "Index(['bedrooms', 'bathrooms', 'sqft_lot', 'floors', 'view', 'condition',\n",
       "       'grade', 'sqft_above', 'yr_built', 'sqft_living15', 'sqft_lot15',\n",
       "       'season', 'waterfront', 'seattle_dist', 'bellevue_dist',\n",
       "       'pine_lake_dist', 'magnolia_dist', 'woodinville_dist', 'kirkland_dist',\n",
       "       'tiger_mtn_dist', 'issaquah_dist', 'redmond_dist', 'comm_dist',\n",
       "       'center_dist', 'sqft_per_room', 'appeal_std', 'price_log'],\n",
       "      dtype='object')"
      ]
     },
     "execution_count": 118,
     "metadata": {},
     "output_type": "execute_result"
    }
   ],
   "source": [
    "kc_df.columns"
   ]
  },
  {
   "cell_type": "code",
   "execution_count": 123,
   "metadata": {},
   "outputs": [],
   "source": [
    "third_mv_model_data = kc_df.drop(['bedrooms', 'bathrooms', 'sqft_lot', 'floors', 'view', 'condition',\n",
    "                                  'yr_built', 'sqft_lot15', 'season', 'waterfront', 'seattle_dist', \n",
    "                                  'bellevue_dist', \n",
    "                                  'pine_lake_dist',  'woodinville_dist', 'kirkland_dist',\n",
    "                                  'tiger_mtn_dist', 'issaquah_dist', 'comm_dist',\n",
    "                                  'center_dist', 'appeal_std'], axis=1) \n",
    "#don't drop: grade, swft_above, sqft_living15, magnolia, redmond, sqft_per_room"
   ]
  },
  {
   "cell_type": "code",
   "execution_count": 125,
   "metadata": {},
   "outputs": [],
   "source": [
    "y3 = third_mv_model_data[[\"price_log\"]]\n",
    "X3 = third_mv_model_data.drop([\"price_log\"], axis=1)\n",
    "\n",
    "from sklearn.model_selection import train_test_split\n",
    "X3_train, X3_test, y3_train, y3_test = train_test_split(X3, y3, test_size = 0.2)\n",
    "\n",
    "from sklearn.linear_model import LinearRegression\n",
    "linreg = LinearRegression()\n",
    "linreg3 = LinearRegression()\n",
    "linreg3.fit(X3_train, y3_train)\n",
    "\n",
    "y3_hat_train = linreg3.predict(X3_train)\n",
    "y3_hat_test = linreg3.predict(X3_test)#check the r squared \n",
    "linreg_first.score(X,y)"
   ]
  },
  {
   "cell_type": "code",
   "execution_count": 126,
   "metadata": {},
   "outputs": [
    {
     "data": {
      "text/plain": [
       "0.7406817291682872"
      ]
     },
     "execution_count": 126,
     "metadata": {},
     "output_type": "execute_result"
    }
   ],
   "source": [
    "#check the r squared \n",
    "linreg3.score(X3,y3)"
   ]
  },
  {
   "cell_type": "code",
   "execution_count": 130,
   "metadata": {},
   "outputs": [
    {
     "name": "stdout",
     "output_type": "stream",
     "text": [
      "0.16578547743151742 0.16565098619389884 0.16554124893994962\n"
     ]
    }
   ],
   "source": [
    "from sklearn.metrics import mean_squared_error\n",
    "from sklearn.model_selection import cross_val_score\n",
    "cv_5_results = np.mean(cross_val_score(linreg3, X3, y3, cv=5, scoring=\"neg_median_absolute_error\"))\n",
    "cv_10_results = np.mean(cross_val_score(linreg3, X3, y3, cv=10, scoring=\"neg_median_absolute_error\"))\n",
    "cv_20_results = np.mean(cross_val_score(linreg3, X3, y3, cv=20, scoring=\"neg_median_absolute_error\"))\n",
    "print(abs(cv_5_results), abs(cv_10_results), abs(cv_20_results))"
   ]
  },
  {
   "cell_type": "code",
   "execution_count": 133,
   "metadata": {},
   "outputs": [],
   "source": [
    "#create a function for backtransforming price\n",
    "def exp_absolute_error(y_actual, y_hat):\n",
    "    return abs(np.exp(y_actual.values)-np.exp(y_hat))/(np.exp(y_actual.values))"
   ]
  },
  {
   "cell_type": "code",
   "execution_count": 134,
   "metadata": {},
   "outputs": [
    {
     "data": {
      "text/plain": [
       "0.16234216073423144"
      ]
     },
     "execution_count": 134,
     "metadata": {},
     "output_type": "execute_result"
    }
   ],
   "source": [
    "#take the median \n",
    "np.median(exp_absolute_error(y3_test, y3_hat_test))"
   ]
  },
  {
   "cell_type": "markdown",
   "metadata": {},
   "source": [
    "Now that we've cleaned up our data, and generated new features we'll look at how the feature values are distributed."
   ]
  },
  {
   "cell_type": "markdown",
   "metadata": {},
   "source": [
    "## Exploring Our Data "
   ]
  },
  {
   "cell_type": "code",
   "execution_count": null,
   "metadata": {},
   "outputs": [],
   "source": [
    "#import necessary visualization libraries\n",
    "import matplotlib.pyplot as plt\n",
    "import seaborn as sns\n",
    "%matplotlib inline"
   ]
  },
  {
   "cell_type": "code",
   "execution_count": null,
   "metadata": {},
   "outputs": [],
   "source": [
    "#Find the statistical description of the features.\n",
    "kc_df.describe().head()"
   ]
  },
  {
   "cell_type": "code",
   "execution_count": null,
   "metadata": {
    "scrolled": true
   },
   "outputs": [],
   "source": [
    "#make histograms of the features to visualize their distributions.\n",
    "kc_df.hist(figsize=(15,12));\n",
    "plt.tight_layout()"
   ]
  },
  {
   "cell_type": "code",
   "execution_count": null,
   "metadata": {},
   "outputs": [],
   "source": [
    "#check to see where features have very high Pearson correlation coefficients \n",
    "kc_df.corr()>.95"
   ]
  },
  {
   "cell_type": "code",
   "execution_count": null,
   "metadata": {
    "scrolled": false
   },
   "outputs": [],
   "source": [
    "#make a heatmap to double check for multicollinearity \n",
    "sns.heatmap(kc_df.corr(), center=0);"
   ]
  },
  {
   "cell_type": "markdown",
   "metadata": {},
   "source": [
    "From the heatmap and other graphs, we can see that no features are collinear, so we don't need to remove any from our dataset. "
   ]
  },
  {
   "cell_type": "markdown",
   "metadata": {},
   "source": [
    "### Normalizing and scaling our data - edit phrasing and placement - make sure to put before all our scaled/normalized features or comment about them already being normalized"
   ]
  },
  {
   "cell_type": "code",
   "execution_count": null,
   "metadata": {},
   "outputs": [],
   "source": [
    "#first we want to normalize our price data by logging it \n",
    "price_log = np.log(kc_df['price'])\n",
    "price_log = pd.Series(price_log)\n",
    "kc_df['price_log'] = price_log\n",
    "kc_df = kc_df.drop('price', axis = 1)"
   ]
  },
  {
   "cell_type": "markdown",
   "metadata": {},
   "source": [
    "## Modeling our data "
   ]
  },
  {
   "cell_type": "code",
   "execution_count": null,
   "metadata": {},
   "outputs": [],
   "source": [
    "import statsmodels.api as sm\n",
    "import statsmodels\n",
    "from scipy import stats\n",
    "from statsmodels.formula.api import ols\n",
    "import statsmodels.formula.api as smf\n",
    "plt.style.use('seaborn')"
   ]
  },
  {
   "cell_type": "markdown",
   "metadata": {},
   "source": [
    "We are making our first model using one feature and seeing how it relates to price"
   ]
  },
  {
   "cell_type": "code",
   "execution_count": null,
   "metadata": {
    "scrolled": true
   },
   "outputs": [],
   "source": [
    "f = 'price_log~sqft_living15'\n",
    "model = ols(formula=f, data=kc_df).fit()\n",
    "model.summary()"
   ]
  },
  {
   "cell_type": "code",
   "execution_count": null,
   "metadata": {},
   "outputs": [],
   "source": [
    "#This is what our first model looks like \n",
    "sns.regplot(x='sqft_living15', y='price_log', data=kc_df, line_kws={\"color\":\"r\"});"
   ]
  },
  {
   "cell_type": "markdown",
   "metadata": {},
   "source": [
    "## Making a multivariate model"
   ]
  },
  {
   "cell_type": "markdown",
   "metadata": {},
   "source": [
    "For our first multivariate model, I'll make a new dataframe with only variables we suspect will be good predictors of the property price."
   ]
  },
  {
   "cell_type": "code",
   "execution_count": null,
   "metadata": {},
   "outputs": [],
   "source": [
    "kc_df.columns"
   ]
  },
  {
   "cell_type": "code",
   "execution_count": null,
   "metadata": {},
   "outputs": [],
   "source": [
    "#consider using columns you want to keep instead of dropping - miles \n",
    "first_mv_model_data = kc_df.drop(['yr_renovated', 'coordinates'], axis=1) "
   ]
  },
  {
   "cell_type": "code",
   "execution_count": null,
   "metadata": {},
   "outputs": [],
   "source": [
    "y = first_mv_model_data[[\"price_log\"]]\n",
    "X = first_mv_model_data.drop([\"price_log\"], axis=1)\n",
    "\n",
    "from sklearn.model_selection import train_test_split\n",
    "X_train, X_test, y_train, y_test = train_test_split(X, y, test_size = 0.2)\n",
    "\n",
    "from sklearn.linear_model import LinearRegression\n",
    "linreg = LinearRegression()\n",
    "linreg_first = LinearRegression()\n",
    "linreg_first.fit(X_train, y_train)\n",
    "\n",
    "y_hat_train = linreg_first.predict(X_train)\n",
    "y_hat_test = linreg_first.predict(X_test)"
   ]
  },
  {
   "cell_type": "code",
   "execution_count": 338,
   "metadata": {},
   "outputs": [],
   "source": [
    "from sklearn.linear_model import LinearRegression\n",
    "linreg = LinearRegression()\n",
    "linreg_first = LinearRegression()\n",
    "linreg_first.fit(X_train, y_train)\n",
    "\n",
    "y_hat_train = linreg_first.predict(X_train)\n",
    "y_hat_test = linreg_first.predict(X_test)"
   ]
  },
  {
   "cell_type": "code",
   "execution_count": null,
   "metadata": {},
   "outputs": [],
   "source": [
    "#check the r squared \n",
    "linreg_first.score(X,y)"
   ]
  },
  {
   "cell_type": "code",
   "execution_count": null,
   "metadata": {},
   "outputs": [],
   "source": [
    "import sklearn \n",
    "from sklearn.model_selection import cross_val_score\n",
    "from sklearn.metrics import mean_absolute_error\n",
    "from sklearn.metrics import mean_squared_error\n",
    "from sklearn.metrics import median_absolute_error"
   ]
  },
  {
   "cell_type": "code",
   "execution_count": null,
   "metadata": {},
   "outputs": [],
   "source": [
    "from sklearn.metrics import mean_squared_error\n",
    "from sklearn.model_selection import cross_val_score\n",
    "cv_5_results = np.mean(cross_val_score(linreg_first, X, y, cv=5, scoring=\"neg_median_absolute_error\"))\n",
    "cv_10_results = np.mean(cross_val_score(linreg_first, X, y, cv=10, scoring=\"neg_median_absolute_error\"))\n",
    "cv_20_results = np.mean(cross_val_score(linreg_first, X, y, cv=20, scoring=\"neg_median_absolute_error\"))"
   ]
  },
  {
   "cell_type": "code",
   "execution_count": null,
   "metadata": {},
   "outputs": [],
   "source": [
    "#our median aboslute errors for these 5, 10, and 20-folds \n",
    "print(abs(cv_5_results), abs(cv_10_results), abs(cv_20_results))"
   ]
  },
  {
   "cell_type": "code",
   "execution_count": null,
   "metadata": {},
   "outputs": [],
   "source": [
    "#create a function for backtransforming price\n",
    "def exp_absolute_error(y_actual, y_hat):\n",
    "    return abs(np.exp(y_actual.values)-np.exp(y_hat))/(np.exp(y_actual.values))"
   ]
  },
  {
   "cell_type": "code",
   "execution_count": null,
   "metadata": {},
   "outputs": [],
   "source": [
    "#take the median \n",
    "np.median(exp_absolute_error(y_test, y_hat_test))\n",
    "#wait, did this actually do anything? since we are taking a percentage anyway? "
   ]
  },
  {
   "cell_type": "code",
   "execution_count": null,
   "metadata": {},
   "outputs": [],
   "source": [
    "from sklearn.feature_selection import SelectKBest\n",
    "from sklearn.feature_selection import chi2\n",
    "from sklearn.feature_selection import f_classif\n",
    "\n",
    "\n",
    "# Create the object for SelectKBest and fit and transform the classification data\n",
    "# k is the number of features we want to select [here it's 5]\n",
    "X_new = SelectKBest(score_func=f_classif,k=6).fit_transform(X, y)\n",
    "print(X_new[:2])\n",
    "\n",
    "\n",
    "print(X.head(2))"
   ]
  },
  {
   "cell_type": "markdown",
   "metadata": {},
   "source": [
    "The top 6 predictors for log_price are floors, sqft_above, sqft_living15, center_distance, sqft_per_room, and appeal_std. "
   ]
  },
  {
   "cell_type": "code",
   "execution_count": null,
   "metadata": {},
   "outputs": [],
   "source": [
    "second_mv_model_data = kc_df.drop(['yr_renovated', 'coordinates', 'sqft_lot', 'sqft_lot15', 'season', \n",
    "                                   'coordinates', 'comm_dist'], axis=1)"
   ]
  },
  {
   "cell_type": "code",
   "execution_count": null,
   "metadata": {},
   "outputs": [],
   "source": [
    "y2 = second_mv_model_data[[\"price_log\"]]\n",
    "X2 = second_mv_model_data.drop([\"price_log\"], axis=1)\n",
    "\n",
    "from sklearn.model_selection import train_test_split\n",
    "X2_train, X2_test, y2_train, y2_test = train_test_split(X2, y2, test_size = 0.2)"
   ]
  },
  {
   "cell_type": "code",
   "execution_count": null,
   "metadata": {},
   "outputs": [],
   "source": [
    "from sklearn.linear_model import LinearRegression\n",
    "linreg = LinearRegression()\n",
    "linreg2 = LinearRegression()\n",
    "linreg2.fit(X2_train, y2_train)\n",
    "\n",
    "y2_hat_train = linreg2.predict(X2_train)\n",
    "y2_hat_test = linreg2.predict(X2_test)"
   ]
  },
  {
   "cell_type": "code",
   "execution_count": null,
   "metadata": {},
   "outputs": [],
   "source": [
    "#check the r squared \n",
    "linreg2.score(X2,y2)"
   ]
  },
  {
   "cell_type": "code",
   "execution_count": null,
   "metadata": {},
   "outputs": [],
   "source": [
    "cv_5_results = np.median(cross_val_score(linreg2, X2, y2, cv=5, scoring=\"neg_median_absolute_error\"))\n",
    "cv_10_results = np.median(cross_val_score(linreg2, X2, y2, cv=10, scoring=\"neg_median_absolute_error\"))\n",
    "cv_20_results = np.median(cross_val_score(linreg2, X2, y2, cv=20, scoring=\"neg_median_absolute_error\"))"
   ]
  },
  {
   "cell_type": "code",
   "execution_count": null,
   "metadata": {},
   "outputs": [],
   "source": [
    "np.median(exp_absolute_error(y2_test, y2_hat_test))"
   ]
  },
  {
   "cell_type": "code",
   "execution_count": null,
   "metadata": {},
   "outputs": [],
   "source": [
    "#Down to 19%! Ha!"
   ]
  }
 ],
 "metadata": {
  "kernelspec": {
   "display_name": "Python 3",
   "language": "python",
   "name": "python3"
  },
  "language_info": {
   "codemirror_mode": {
    "name": "ipython",
    "version": 3
   },
   "file_extension": ".py",
   "mimetype": "text/x-python",
   "name": "python",
   "nbconvert_exporter": "python",
   "pygments_lexer": "ipython3",
   "version": "3.7.1"
  }
 },
 "nbformat": 4,
 "nbformat_minor": 2
}
